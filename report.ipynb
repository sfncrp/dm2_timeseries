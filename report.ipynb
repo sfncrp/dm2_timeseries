{
 "cells": [
  {
   "cell_type": "raw",
   "metadata": {
    "format": "text/latex"
   },
   "source": [
    "\\documentclass[a4paper,11pt,final]{article}\n",
    "\\usepackage{fancyvrb, color, graphicx, hyperref, amsmath, url}\n",
    "\\usepackage{palatino}\n",
    "\\usepackage{booktabs}\n",
    "\\usepackage[a4paper,text={16.5cm,25.2cm},centering]{geometry}\n",
    "        \n",
    "\\hypersetup  \n",
    "{   pdfauthor = {Stefano Carpita},\n",
    "  pdftitle={},\n",
    "  colorlinks=TRUE,\n",
    "  linkcolor=black,\n",
    "  citecolor=blue,\n",
    "  urlcolor=blue\n",
    "}\n",
    "\n",
    "\\setlength{\\parindent}{0pt}\n",
    "\\setlength{\\parskip}{1.2ex}\n",
    "\n",
    "\\title{Time series analysis: IBM stocks}\n",
    "\\author{Stefano Carpita \\\\ \\url{https://github.com/sfncrp}}\n",
    "\\date{25th April 2018}\n",
    "\n",
    "\\begin{document}\n",
    "\\maketitle\n",
    "\n",
    "\\section{Objectives}\n",
    "\n",
    "Time series: given the 50+ years long history of stock values of a company, split it into years, and study their similarities, also using clustering. Objectives: compare similarities, compute clustering. Dataset: IBM stocks (source: Yahoo Finance), includes a Python snippet to read and split the data. Dataset obtained from Yahoo!Finance service.\n",
    "Sequential patterns: discover patterns over the stock value time series above. Before that, preprocess the data by splitting it into monthly time series and discretizing them in some way. Objective: find Motifs-like patterns (i.e. frequent contiguous subsequences) of length at least 4 days. Dataset: same as the point before.\n",
    "\n",
    "\\section{Introduction}\n",
    "\n",
    "The dataset available at Yahoo Finance \n",
    "\n"
   ]
  },
  {
   "cell_type": "code",
   "execution_count": 1,
   "metadata": {
    "autoscroll": "auto",
    "options": {
     "caption": false,
     "complete": true,
     "display_data": true,
     "display_stream": true,
     "dpi": 200,
     "echo": false,
     "evaluate": true,
     "f_env": null,
     "f_pos": "htpb",
     "f_size": [
      6,
      4
     ],
     "f_spines": true,
     "fig": true,
     "include": true,
     "name": null,
     "option_string": "echo = False",
     "results": "verbatim",
     "term": false,
     "wrap": "output"
    }
   },
   "outputs": [
    {
     "name": "stderr",
     "output_type": "stream",
     "text": [
      "/home/stefano/Py-envs/dm-py3/lib/python3.5/importlib/_bootstrap.py:222: RuntimeWarning: numpy.dtype size changed, may indicate binary incompatibility. Expected 96, got 88\n",
      "  return f(*args, **kwds)\n"
     ]
    }
   ],
   "source": [
    "import numpy as np\n",
    "import pandas as pd\n",
    "import matplotlib.pyplot as plt\n",
    "\n",
    "plt.rcParams['interactive'] = True"
   ]
  },
  {
   "cell_type": "raw",
   "metadata": {
    "format": "text/latex"
   },
   "source": [
    "\n"
   ]
  },
  {
   "cell_type": "code",
   "execution_count": 2,
   "metadata": {
    "autoscroll": "auto",
    "options": {
     "caption": false,
     "complete": true,
     "display_data": true,
     "display_stream": true,
     "dpi": 200,
     "echo": false,
     "evaluate": true,
     "f_env": null,
     "f_pos": "htpb",
     "f_size": [
      6,
      4
     ],
     "f_spines": true,
     "fig": true,
     "include": true,
     "name": null,
     "option_string": "echo = False",
     "results": "verbatim",
     "term": false,
     "wrap": "output"
    }
   },
   "outputs": [],
   "source": [
    "df = pd.read_csv('ibm_daily_1962-2018.csv', sep='\\t',header=0, \n",
    "                 index_col = 0)"
   ]
  },
  {
   "cell_type": "raw",
   "metadata": {
    "format": "text/latex"
   },
   "source": [
    "\n"
   ]
  },
  {
   "cell_type": "code",
   "execution_count": 3,
   "metadata": {
    "autoscroll": "auto",
    "options": {
     "caption": false,
     "complete": true,
     "display_data": true,
     "display_stream": true,
     "dpi": 200,
     "echo": false,
     "evaluate": true,
     "f_env": null,
     "f_pos": "htpb",
     "f_size": [
      6,
      4
     ],
     "f_spines": true,
     "fig": true,
     "include": true,
     "name": null,
     "option_string": "echo = False, results = 'tex'",
     "results": "tex",
     "term": false,
     "wrap": "output"
    }
   },
   "outputs": [
    {
     "name": "stdout",
     "output_type": "stream",
     "text": [
      "\\begin{tabular}{lrrrrrr}\n",
      "\\toprule\n",
      "{} &   Open &   High &    Low &  Close &    Adj &     Volume \\\\\n",
      "Date       &        &        &        &        &        &            \\\\\n",
      "\\midrule\n",
      "2018-04-02 & 153.34 & 153.38 & 148.43 & 150.07 & 150.07 & 5150400.00 \\\\\n",
      "2018-04-03 & 150.80 & 151.00 & 148.30 & 149.85 & 149.85 & 4135700.00 \\\\\n",
      "2018-04-04 & 147.89 & 154.47 & 147.45 & 154.12 & 154.12 & 4805300.00 \\\\\n",
      "2018-04-05 & 154.44 & 154.92 & 153.34 & 154.03 & 154.03 & 3185400.00 \\\\\n",
      "2018-04-06 & 153.46 & 153.95 & 149.54 & 150.57 & 150.57 & 3672900.00 \\\\\n",
      "2018-04-09 & 151.80 & 154.66 & 151.74 & 152.69 & 152.69 & 4413200.00 \\\\\n",
      "2018-04-10 & 155.03 & 156.60 & 154.75 & 155.39 & 155.39 & 3806400.00 \\\\\n",
      "2018-04-11 & 154.37 & 155.78 & 153.88 & 155.36 & 155.36 & 3306500.00 \\\\\n",
      "2018-04-12 & 156.75 & 158.98 & 156.67 & 158.07 & 158.07 & 5639400.00 \\\\\n",
      "2018-04-13 & 158.67 & 159.22 & 155.91 & 156.71 & 156.71 & 3880200.00 \\\\\n",
      "\\bottomrule\n",
      "\\end{tabular}\n",
      "\n"
     ]
    }
   ],
   "source": [
    "def f1(x):\n",
    "    return( '{:.2f}'.format(x) )\n",
    "\n",
    "\n",
    "fs = [f1 for i in range(df.shape[1])]\n",
    "\n",
    "print(df[-10:].to_latex(formatters = fs))"
   ]
  },
  {
   "cell_type": "raw",
   "metadata": {
    "format": "text/latex"
   },
   "source": [
    "\n"
   ]
  },
  {
   "cell_type": "code",
   "execution_count": 4,
   "metadata": {
    "autoscroll": "auto",
    "options": {
     "caption": false,
     "complete": true,
     "display_data": true,
     "display_stream": true,
     "dpi": 200,
     "echo": false,
     "evaluate": true,
     "f_env": null,
     "f_pos": "htpb",
     "f_size": [
      6,
      4
     ],
     "f_spines": true,
     "fig": true,
     "include": true,
     "name": " fig_example",
     "option_string": "name = \" fig_example\", echo = False",
     "results": "verbatim",
     "term": false,
     "wrap": "output"
    }
   },
   "outputs": [],
   "source": [
    "# fig, ax = plt.subplots()\n",
    "# ax.plot(df[\"Open\"])\n",
    "# ax.grid()"
   ]
  },
  {
   "cell_type": "raw",
   "metadata": {
    "format": "text/latex"
   },
   "source": [
    "\n",
    "\\end{document}\n"
   ]
  }
 ],
 "metadata": {
  "kernel_info": {
   "name": "python3"
  },
  "kernelspec": {
   "display_name": "Python 2",
   "language": "python",
   "name": "python2"
  },
  "language_info": {
   "codemirror_mode": {
    "name": "ipython",
    "version": 2
   },
   "file_extension": ".py",
   "mimetype": "text/x-python",
   "name": "python",
   "nbconvert_exporter": "python",
   "pygments_lexer": "ipython2",
   "version": "2.7.13"
  }
 },
 "nbformat": 4,
 "nbformat_minor": 1
}
